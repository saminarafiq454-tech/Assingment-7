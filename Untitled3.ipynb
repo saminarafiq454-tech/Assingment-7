{
 "cells": [
  {
   "cell_type": "code",
   "execution_count": null,
   "id": "e004b5e8-edc5-40cb-8fe3-b9aebd423725",
   "metadata": {},
   "outputs": [
    {
     "name": "stdout",
     "output_type": "stream",
     "text": [
      "\n",
      "=== Speed, Distance, and Time Calculator ===\n",
      "1. Calculate Speed\n",
      "2. Calculate Distance\n",
      "3. Calculate Time\n",
      "4. Exit\n"
     ]
    },
    {
     "name": "stdin",
     "output_type": "stream",
     "text": [
      "Enter your choice (1-4):  1\n",
      "Enter distance (in km):  2\n",
      "Enter time (in hours):  3\n"
     ]
    },
    {
     "name": "stdout",
     "output_type": "stream",
     "text": [
      "✅ Speed = 0.67 km/h\n",
      "\n",
      "=== Speed, Distance, and Time Calculator ===\n",
      "1. Calculate Speed\n",
      "2. Calculate Distance\n",
      "3. Calculate Time\n",
      "4. Exit\n"
     ]
    },
    {
     "name": "stdin",
     "output_type": "stream",
     "text": [
      "Enter your choice (1-4):  1\n",
      "Enter distance (in km):  3\n",
      "Enter time (in hours):  4\n"
     ]
    },
    {
     "name": "stdout",
     "output_type": "stream",
     "text": [
      "✅ Speed = 0.75 km/h\n",
      "\n",
      "=== Speed, Distance, and Time Calculator ===\n",
      "1. Calculate Speed\n",
      "2. Calculate Distance\n",
      "3. Calculate Time\n",
      "4. Exit\n"
     ]
    },
    {
     "name": "stdin",
     "output_type": "stream",
     "text": [
      "Enter your choice (1-4):  \n"
     ]
    },
    {
     "name": "stdout",
     "output_type": "stream",
     "text": [
      "⚠️ Invalid choice! Please enter a number between 1 and 4.\n",
      "\n",
      "=== Speed, Distance, and Time Calculator ===\n",
      "1. Calculate Speed\n",
      "2. Calculate Distance\n",
      "3. Calculate Time\n",
      "4. Exit\n"
     ]
    },
    {
     "name": "stdin",
     "output_type": "stream",
     "text": [
      "Enter your choice (1-4):  1\n",
      "Enter distance (in km):  2\n",
      "Enter time (in hours):  3\n"
     ]
    },
    {
     "name": "stdout",
     "output_type": "stream",
     "text": [
      "✅ Speed = 0.67 km/h\n",
      "\n",
      "=== Speed, Distance, and Time Calculator ===\n",
      "1. Calculate Speed\n",
      "2. Calculate Distance\n",
      "3. Calculate Time\n",
      "4. Exit\n"
     ]
    },
    {
     "name": "stdin",
     "output_type": "stream",
     "text": [
      "Enter your choice (1-4):  3\n",
      "Enter distance (in km):  3\n",
      "Enter speed (in km/h):  3\n"
     ]
    },
    {
     "name": "stdout",
     "output_type": "stream",
     "text": [
      "✅ Time = 1.00 hours\n",
      "\n",
      "=== Speed, Distance, and Time Calculator ===\n",
      "1. Calculate Speed\n",
      "2. Calculate Distance\n",
      "3. Calculate Time\n",
      "4. Exit\n"
     ]
    },
    {
     "name": "stdin",
     "output_type": "stream",
     "text": [
      "Enter your choice (1-4):  2\n",
      "Enter speed (in km/h):  2\n",
      "Enter time (in hours):  4\n"
     ]
    },
    {
     "name": "stdout",
     "output_type": "stream",
     "text": [
      "✅ Distance = 8.00 km\n",
      "\n",
      "=== Speed, Distance, and Time Calculator ===\n",
      "1. Calculate Speed\n",
      "2. Calculate Distance\n",
      "3. Calculate Time\n",
      "4. Exit\n"
     ]
    }
   ],
   "source": [
    "#### while True:\n",
    "    print(\"\\n=== Speed, Distance, and Time Calculator ===\")\n",
    "    print(\"1. Calculate Speed\")\n",
    "    print(\"2. Calculate Distance\")\n",
    "    print(\"3. Calculate Time\")\n",
    "    print(\"4. Exit\")\n",
    "\n",
    "    choice = input(\"Enter your choice (1-4): \")\n",
    "\n",
    "    # Exit condition\n",
    "    if choice == \"4\":\n",
    "        print(\"Goodbye! Have a nice day 😊\")\n",
    "        break\n",
    "\n",
    "    # Choice 1 → Calculate Speed\n",
    "    elif choice == \"1\":\n",
    "        try:\n",
    "            distance = float(input(\"Enter distance (in km): \"))\n",
    "            time = float(input(\"Enter time (in hours): \"))\n",
    "            if distance < 0 or time <= 0:\n",
    "                print(\"❌ Please enter positive values and time > 0.\")\n",
    "            else:\n",
    "                speed = distance / time\n",
    "                print(f\"✅ Speed = {speed:.2f} km/h\")\n",
    "        except ValueError:\n",
    "            print(\"⚠️ Invalid input! Please enter numeric values.\")\n",
    "\n",
    "    # Choice 2 → Calculate Distance\n",
    "    elif choice == \"2\":\n",
    "        try:\n",
    "            speed = float(input(\"Enter speed (in km/h): \"))\n",
    "            time = float(input(\"Enter time (in hours): \"))\n",
    "            if speed < 0 or time < 0:\n",
    "                print(\"❌ Please enter positive values.\")\n",
    "            else:\n",
    "                distance = speed * time\n",
    "                print(f\"✅ Distance = {distance:.2f} km\")\n",
    "        except ValueError:\n",
    "            print(\"⚠️ Invalid input! Please enter numeric values.\")\n",
    "\n",
    "    # Choice 3 → Calculate Time\n",
    "    elif choice == \"3\":\n",
    "        try:\n",
    "            distance = float(input(\"Enter distance (in km): \"))\n",
    "            speed = float(input(\"Enter speed (in km/h): \"))\n",
    "            if distance < 0 or speed <= 0:\n",
    "                print(\"❌ Please enter positive values and speed > 0.\")\n",
    "            else:\n",
    "                time = distance / speed\n",
    "                print(f\"✅ Time = {time:.2f} hours\")\n",
    "        except ValueError:\n",
    "            print(\"⚠️ Invalid input! Please enter numeric values.\")\n",
    "\n",
    "    # Invalid menu choice\n",
    "    else:\n",
    "        print(\"⚠️ Invalid choice! Please enter a number between 1 and 4.\")\n"
   ]
  },
  {
   "cell_type": "code",
   "execution_count": null,
   "id": "215c1fe5-704d-4a70-8704-76855000f189",
   "metadata": {},
   "outputs": [],
   "source": []
  }
 ],
 "metadata": {
  "kernelspec": {
   "display_name": "Python 3 (ipykernel)",
   "language": "python",
   "name": "python3"
  },
  "language_info": {
   "codemirror_mode": {
    "name": "ipython",
    "version": 3
   },
   "file_extension": ".py",
   "mimetype": "text/x-python",
   "name": "python",
   "nbconvert_exporter": "python",
   "pygments_lexer": "ipython3",
   "version": "3.12.7"
  }
 },
 "nbformat": 4,
 "nbformat_minor": 5
}
