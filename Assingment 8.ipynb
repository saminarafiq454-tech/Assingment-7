{
 "cells": [
  {
   "cell_type": "code",
   "execution_count": 1,
   "id": "11374bda-590f-46eb-9ba4-72d169567f2f",
   "metadata": {},
   "outputs": [
    {
     "name": "stdout",
     "output_type": "stream",
     "text": [
      "Sum: 12\n"
     ]
    }
   ],
   "source": [
    "def add_numbers(a, b):\n",
    "    return a + b\n",
    "\n",
    "# Test\n",
    "print(\"Sum:\", add_numbers(5, 7))\n"
   ]
  },
  {
   "cell_type": "code",
   "execution_count": 2,
   "id": "c2e74f8b-a93f-42e2-9420-6a3b4ff52061",
   "metadata": {},
   "outputs": [
    {
     "name": "stdout",
     "output_type": "stream",
     "text": [
      "Vowel count: 3\n"
     ]
    }
   ],
   "source": [
    "def count_vowels(text):\n",
    "    vowels = \"aeiouAEIOU\"\n",
    "    return sum(1 for ch in text if ch in vowels)\n",
    "\n",
    "# Test\n",
    "print(\"Vowel count:\", count_vowels(\"Welcome\"))\n"
   ]
  },
  {
   "cell_type": "code",
   "execution_count": 3,
   "id": "536825ed-d655-4e07-b345-eec57b06b05e",
   "metadata": {},
   "outputs": [
    {
     "name": "stdout",
     "output_type": "stream",
     "text": [
      "100 USD is equivalent to 28000 PKR\n"
     ]
    }
   ],
   "source": [
    "def currency_converter(amount, exchange_rate=280):\n",
    "    converted = amount * exchange_rate\n",
    "    return f\"{amount} USD is equivalent to {converted} PKR\"\n",
    "\n",
    "# Test\n",
    "print(currency_converter(100))\n"
   ]
  },
  {
   "cell_type": "code",
   "execution_count": 4,
   "id": "35421734-2541-4a1d-bafd-59af5f967609",
   "metadata": {},
   "outputs": [
    {
     "name": "stdout",
     "output_type": "stream",
     "text": [
      "Name: John Doe\n",
      "Age: 15\n",
      "Grade: 10th\n",
      "School: Greenwood High\n"
     ]
    }
   ],
   "source": [
    "def display_student_info(*, name, age, grade, school):\n",
    "    print(f\"Name: {name}\")\n",
    "    print(f\"Age: {age}\")\n",
    "    print(f\"Grade: {grade}\")\n",
    "    print(f\"School: {school}\")\n",
    "\n",
    "# Test\n",
    "display_student_info(name=\"John Doe\", age=15, grade=\"10th\", school=\"Greenwood High\")\n"
   ]
  },
  {
   "cell_type": "code",
   "execution_count": 5,
   "id": "85cdd0df-a77f-466b-b0b2-a312bac81ccb",
   "metadata": {},
   "outputs": [
    {
     "name": "stdout",
     "output_type": "stream",
     "text": [
      "Total Price: 150\n"
     ]
    }
   ],
   "source": [
    "def calculate_price(price, quantity):\n",
    "    return price * quantity\n",
    "\n",
    "# Test\n",
    "print(\"Total Price:\", calculate_price(50, 3))\n"
   ]
  },
  {
   "cell_type": "code",
   "execution_count": 6,
   "id": "0efbfa25-b2af-4c8c-a0d9-bb8d9a3561c6",
   "metadata": {},
   "outputs": [
    {
     "name": "stdout",
     "output_type": "stream",
     "text": [
      "Product: Laptop\n",
      "Amazon: $800\n",
      "eBay: $750\n",
      "Walmart: $780\n"
     ]
    }
   ],
   "source": [
    "def display_prices(product, **prices):\n",
    "    print(f\"Product: {product}\")\n",
    "    for place, price in prices.items():\n",
    "        print(f\"{place}: ${price}\")\n",
    "\n",
    "# Test\n",
    "display_prices(\"Laptop\", Amazon=800, eBay=750, Walmart=780)\n"
   ]
  },
  {
   "cell_type": "code",
   "execution_count": 7,
   "id": "7557fac7-8f95-4e7d-9aec-083c0ab82324",
   "metadata": {},
   "outputs": [
    {
     "name": "stdout",
     "output_type": "stream",
     "text": [
      "Max number: 100\n"
     ]
    }
   ],
   "source": [
    "def find_max(*nums):\n",
    "    return max(nums)\n",
    "\n",
    "# Test\n",
    "print(\"Max number:\", find_max(10, 25, 5, 100, 45))\n"
   ]
  },
  {
   "cell_type": "code",
   "execution_count": 8,
   "id": "cc5c4d2d-02fc-4df8-8f91-fbe8464545d8",
   "metadata": {},
   "outputs": [
    {
     "name": "stdout",
     "output_type": "stream",
     "text": [
      "Area: 15\n",
      "Perimeter: 16\n"
     ]
    }
   ],
   "source": [
    "def calculate_rectangle(length, width):\n",
    "    def calculate_area():\n",
    "        return length * width\n",
    "\n",
    "    def calculate_perimeter():\n",
    "        return 2 * (length + width)\n",
    "\n",
    "    return calculate_area(), calculate_perimeter()\n",
    "\n",
    "# Test\n",
    "area, perimeter = calculate_rectangle(5, 3)\n",
    "print(\"Area:\", area)\n",
    "print(\"Perimeter:\", perimeter)\n"
   ]
  },
  {
   "cell_type": "code",
   "execution_count": 9,
   "id": "1a0aa6a2-1661-4d19-bc7c-a58628e54d6f",
   "metadata": {},
   "outputs": [
    {
     "name": "stdout",
     "output_type": "stream",
     "text": [
      "Taxi fare for 10 km = 1000 PKR (default rate)\n",
      "Taxi fare for 15 km = 1800 PKR (custom rate)\n"
     ]
    }
   ],
   "source": [
    "def taxi_fare(distance, rate=100):\n",
    "    return distance * rate\n",
    "\n",
    "# Test\n",
    "print(\"Taxi fare for 10 km =\", taxi_fare(10), \"PKR (default rate)\")\n",
    "print(\"Taxi fare for 15 km =\", taxi_fare(15, 120), \"PKR (custom rate)\")\n"
   ]
  },
  {
   "cell_type": "code",
   "execution_count": 10,
   "id": "62aa5bcb-6423-4f02-974f-e03942acc3c5",
   "metadata": {},
   "outputs": [
    {
     "name": "stdout",
     "output_type": "stream",
     "text": [
      "Final Bill = 600 PKR (no discount)\n",
      "Final Bill = 500 PKR (with discount)\n"
     ]
    }
   ],
   "source": [
    "def shopping_bill(price, quantity, discount=0):\n",
    "    def calculate_total():\n",
    "        return price * quantity\n",
    "\n",
    "    def apply_discount(total):\n",
    "        return max(0, total - discount)\n",
    "\n",
    "    total = calculate_total()\n",
    "    return apply_discount(total)\n",
    "\n",
    "# Test\n",
    "print(\"Final Bill =\", shopping_bill(200, 3), \"PKR (no discount)\")\n",
    "print(\"Final Bill =\", shopping_bill(200, 3, 100), \"PKR (with discount)\")\n"
   ]
  },
  {
   "cell_type": "code",
   "execution_count": null,
   "id": "4d95b830-1016-4781-9d7b-7823fffab0cf",
   "metadata": {},
   "outputs": [],
   "source": []
  }
 ],
 "metadata": {
  "kernelspec": {
   "display_name": "Python 3 (ipykernel)",
   "language": "python",
   "name": "python3"
  },
  "language_info": {
   "codemirror_mode": {
    "name": "ipython",
    "version": 3
   },
   "file_extension": ".py",
   "mimetype": "text/x-python",
   "name": "python",
   "nbconvert_exporter": "python",
   "pygments_lexer": "ipython3",
   "version": "3.12.7"
  }
 },
 "nbformat": 4,
 "nbformat_minor": 5
}
