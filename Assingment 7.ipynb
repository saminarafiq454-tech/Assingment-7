{
 "cells": [
  {
   "cell_type": "code",
   "execution_count": 1,
   "id": "fbb778c3-1855-407e-91ed-439166cfa39c",
   "metadata": {},
   "outputs": [
    {
     "name": "stdout",
     "output_type": "stream",
     "text": [
      "1 3 5 7 9 11 13 15 17 19 "
     ]
    }
   ],
   "source": [
    "i = 1\n",
    "while i <= 20:\n",
    "    if i % 2 == 0:\n",
    "        i += 1\n",
    "        continue\n",
    "    print(i, end=\" \")\n",
    "    i += 1\n"
   ]
  },
  {
   "cell_type": "code",
   "execution_count": 2,
   "id": "7cb7491e-ed0a-4ba1-b762-2ec2bb7f9f8b",
   "metadata": {},
   "outputs": [
    {
     "name": "stdin",
     "output_type": "stream",
     "text": [
      "Enter a number (negative to stop):  -5\n"
     ]
    },
    {
     "name": "stdout",
     "output_type": "stream",
     "text": [
      "Negative number entered. Loop stopped!\n"
     ]
    }
   ],
   "source": [
    "while True:\n",
    "    num = int(input(\"Enter a number (negative to stop): \"))\n",
    "    if num < 0:\n",
    "        print(\"Negative number entered. Loop stopped!\")\n",
    "        break\n",
    "    else:\n",
    "        print(\"You entered:\", num)\n"
   ]
  },
  {
   "cell_type": "code",
   "execution_count": 3,
   "id": "9185f508-0fc5-407c-b0ff-71e6704ec96e",
   "metadata": {},
   "outputs": [
    {
     "name": "stdin",
     "output_type": "stream",
     "text": [
      "Guess the word:  inquiry\n",
      "Guess the word:  secret\n",
      "Guess the word:  break\n",
      "Guess the word:  python\n"
     ]
    },
    {
     "name": "stdout",
     "output_type": "stream",
     "text": [
      "🎉 You guessed it!\n"
     ]
    }
   ],
   "source": [
    "secret = \"python\"\n",
    "\n",
    "while True:\n",
    "    word = input(\"Guess the word: \")\n",
    "    if word == secret:\n",
    "        print(\"🎉 You guessed it!\")\n",
    "        break\n"
   ]
  },
  {
   "cell_type": "code",
   "execution_count": 4,
   "id": "819bcd58-0342-4837-9796-4c55b711308a",
   "metadata": {},
   "outputs": [
    {
     "name": "stdout",
     "output_type": "stream",
     "text": [
      "Order ID: 1 Customer: Ali\n",
      "Item Price: 120\n",
      "Item Price: 80\n",
      "Item Price: 50\n",
      "Order ID: 2 Customer: Sara\n",
      "Item Price: 200\n",
      "Item Price: 150\n",
      "Order ID: 3 Customer: Raheel\n",
      "Item Price: 90\n",
      "Item Price: 60\n",
      "Item Price: 40\n",
      "Item Price: 30\n",
      "Order ID: 4 Customer: Naveed\n",
      "Item Price: 300\n"
     ]
    }
   ],
   "source": [
    "orders = [\n",
    "    {\"order_id\": 1, \"customer\": \"Ali\", \"items\": [120, 80, 50]},\n",
    "    {\"order_id\": 2, \"customer\": \"Sara\", \"items\": [200, 150]},\n",
    "    {\"order_id\": 3, \"customer\": \"Raheel\", \"items\": [90, 60, 40, 30]},\n",
    "    {\"order_id\": 4, \"customer\": \"Naveed\", \"items\": [300]},\n",
    "]\n",
    "\n",
    "i = 0\n",
    "while i < len(orders):\n",
    "    order = orders[i]\n",
    "    print(\"Order ID:\", order[\"order_id\"], \"Customer:\", order[\"customer\"])\n",
    "    \n",
    "    j = 0\n",
    "    while j < len(order[\"items\"]):\n",
    "        print(\"Item Price:\", order[\"items\"][j])\n",
    "        j += 1\n",
    "    i += 1\n"
   ]
  },
  {
   "cell_type": "code",
   "execution_count": 5,
   "id": "d67447aa-47ca-48fc-bb21-8778a2d105d3",
   "metadata": {},
   "outputs": [
    {
     "name": "stdout",
     "output_type": "stream",
     "text": [
      "Ali spent total: 250\n",
      "Sara spent total: 350\n",
      "Raheel spent total: 220\n",
      "Naveed spent total: 300\n"
     ]
    }
   ],
   "source": [
    "i = 0\n",
    "while i < len(orders):\n",
    "    order = orders[i]\n",
    "    total = 0\n",
    "    \n",
    "    j = 0\n",
    "    while j < len(order[\"items\"]):\n",
    "        total += order[\"items\"][j]\n",
    "        j += 1\n",
    "    \n",
    "    print(order[\"customer\"], \"spent total:\", total)\n",
    "    i += 1\n"
   ]
  },
  {
   "cell_type": "code",
   "execution_count": 6,
   "id": "5181b7be-b8d6-449d-a111-ea332460f0f9",
   "metadata": {},
   "outputs": [
    {
     "name": "stdout",
     "output_type": "stream",
     "text": [
      "Most expensive item in Order 1 = 120\n",
      "Most expensive item in Order 2 = 200\n",
      "Most expensive item in Order 3 = 90\n",
      "Most expensive item in Order 4 = 300\n"
     ]
    }
   ],
   "source": [
    "i = 0\n",
    "while i < len(orders):\n",
    "    order = orders[i]\n",
    "    max_price = order[\"items\"][0]\n",
    "    \n",
    "    j = 1\n",
    "    while j < len(order[\"items\"]):\n",
    "        if order[\"items\"][j] > max_price:\n",
    "            max_price = order[\"items\"][j]\n",
    "        j += 1\n",
    "    \n",
    "    print(\"Most expensive item in Order\", order[\"order_id\"], \"=\", max_price)\n",
    "    i += 1\n"
   ]
  },
  {
   "cell_type": "code",
   "execution_count": 7,
   "id": "5aa7de3c-5722-4d8a-b906-cfeae7f31529",
   "metadata": {},
   "outputs": [
    {
     "name": "stdout",
     "output_type": "stream",
     "text": [
      "Multiples of 5 and 10 from 1 to 50: [10, 20, 30, 40, 50]\n"
     ]
    }
   ],
   "source": [
    "nums = [n for n in range(1, 51) if n % 10 == 0]\n",
    "print(\"Multiples of 5 and 10 from 1 to 50:\", nums)\n"
   ]
  },
  {
   "cell_type": "code",
   "execution_count": 8,
   "id": "f4bd20da-6cb4-4f95-8fe9-13d039b6b987",
   "metadata": {},
   "outputs": [
    {
     "name": "stdout",
     "output_type": "stream",
     "text": [
      "['Naveed', 'Ayesha', 'Sana']\n"
     ]
    }
   ],
   "source": [
    "employees = [\n",
    "    {\"emp_id\": 1, \"name\": \"Ali\", \"dept\": \"Sales\", \"salary\": 50000, \"experience\": 2},\n",
    "    {\"emp_id\": 2, \"name\": \"Sara\", \"dept\": \"IT\", \"salary\": 65000, \"experience\": 5},\n",
    "    {\"emp_id\": 3, \"name\": \"Raheel\", \"dept\": \"HR\", \"salary\": 45000, \"experience\": 1},\n",
    "    {\"emp_id\": 4, \"name\": \"Naveed\", \"dept\": \"Finance\", \"salary\": 70000, \"experience\": 7},\n",
    "    {\"emp_id\": 5, \"name\": \"Ayesha\", \"dept\": \"IT\", \"salary\": 72000, \"experience\": 6},\n",
    "    {\"emp_id\": 6, \"name\": \"Talha\", \"dept\": \"Sales\", \"salary\": 55000, \"experience\": 3},\n",
    "    {\"emp_id\": 7, \"name\": \"Sana\", \"dept\": \"Finance\", \"salary\": 80000, \"experience\": 8},\n",
    "    {\"emp_id\": 8, \"name\": \"Hina\", \"dept\": \"HR\", \"salary\": 48000, \"experience\": 2},\n",
    "]\n",
    "\n",
    "qualified = [e[\"name\"] for e in employees if e[\"salary\"] > 60000 and e[\"experience\"] > 5]\n",
    "print(qualified)\n"
   ]
  },
  {
   "cell_type": "code",
   "execution_count": 9,
   "id": "42d5bda1-a8dd-44d1-ae83-e517e251f5ff",
   "metadata": {},
   "outputs": [
    {
     "name": "stdout",
     "output_type": "stream",
     "text": [
      "['Ali', 'Sara', 'Naveed', 'Ayesha', 'Talha', 'Sana']\n"
     ]
    }
   ],
   "source": [
    "not_hr = [e[\"name\"] for e in employees if e[\"dept\"] != \"HR\"]\n",
    "print(not_hr)\n"
   ]
  },
  {
   "cell_type": "code",
   "execution_count": 10,
   "id": "dcb8b638-76ed-4c2a-946f-21063b9814fd",
   "metadata": {},
   "outputs": [
    {
     "name": "stdout",
     "output_type": "stream",
     "text": [
      "['Sara', 'Raheel', 'Naveed', 'Ayesha', 'Sana', 'Hina']\n"
     ]
    }
   ],
   "source": [
    "result = [e[\"name\"] for e in employees if e[\"dept\"] != \"Sales\" or e[\"experience\"] > 5]\n",
    "print(result)\n"
   ]
  },
  {
   "cell_type": "code",
   "execution_count": null,
   "id": "a3aa3ecc-047e-49a3-bb70-47962ec07b32",
   "metadata": {},
   "outputs": [],
   "source": []
  }
 ],
 "metadata": {
  "kernelspec": {
   "display_name": "Python 3 (ipykernel)",
   "language": "python",
   "name": "python3"
  },
  "language_info": {
   "codemirror_mode": {
    "name": "ipython",
    "version": 3
   },
   "file_extension": ".py",
   "mimetype": "text/x-python",
   "name": "python",
   "nbconvert_exporter": "python",
   "pygments_lexer": "ipython3",
   "version": "3.12.7"
  }
 },
 "nbformat": 4,
 "nbformat_minor": 5
}
