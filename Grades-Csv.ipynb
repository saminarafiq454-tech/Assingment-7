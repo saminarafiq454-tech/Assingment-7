{
 "cells": [
  {
   "cell_type": "code",
   "execution_count": 2,
   "id": "4cbc5d65-7c93-455c-ab2a-85d4267afc4d",
   "metadata": {},
   "outputs": [
    {
     "name": "stdout",
     "output_type": "stream",
     "text": [
      "New file created: student_data_with_grades.csv\n"
     ]
    }
   ],
   "source": [
    "import csv\n",
    "\n",
    "# Step 1: Open the original CSV file for reading\n",
    "input_file = open('student data1.csv', mode='r', newline='')\n",
    "\n",
    "# Step 2: Create a new CSV file for writing\n",
    "output_file = open('student_data_with_grades.csv', mode='w', newline='')\n",
    "\n",
    "# Step 3: Create CSV reader and writer objects\n",
    "reader = csv.reader(input_file)\n",
    "writer = csv.writer(output_file)\n",
    "\n",
    "# Step 4: Read the header (first row) and add 'Grade' column\n",
    "header = next(reader)\n",
    "header.append('Grade')\n",
    "writer.writerow(header)\n",
    "\n",
    "# Step 5: Loop through each row, calculate grade, and write to new file\n",
    "for row in reader:\n",
    "    marks = int(row[2])  # assuming 3rd column is Marks\n",
    "\n",
    "    if marks >= 85:\n",
    "        grade = 'A'\n",
    "    elif marks >= 70:\n",
    "        grade = 'B'\n",
    "    elif marks >= 60:\n",
    "        grade = 'C'\n",
    "    elif marks >= 50:\n",
    "        grade = 'D'\n",
    "    else:\n",
    "        grade = 'F'\n",
    "\n",
    "    row.append(grade)\n",
    "    writer.writerow(row)\n",
    "\n",
    "# Step 6: Close both files\n",
    "input_file.close()\n",
    "output_file.close()\n",
    "\n",
    "print(\"New file created: student_data_with_grades.csv\")\n"
   ]
  },
  {
   "cell_type": "code",
   "execution_count": null,
   "id": "9c8b067d-5de0-46e3-9d36-ae2bf140582b",
   "metadata": {},
   "outputs": [],
   "source": []
  }
 ],
 "metadata": {
  "kernelspec": {
   "display_name": "Python 3 (ipykernel)",
   "language": "python",
   "name": "python3"
  },
  "language_info": {
   "codemirror_mode": {
    "name": "ipython",
    "version": 3
   },
   "file_extension": ".py",
   "mimetype": "text/x-python",
   "name": "python",
   "nbconvert_exporter": "python",
   "pygments_lexer": "ipython3",
   "version": "3.12.7"
  }
 },
 "nbformat": 4,
 "nbformat_minor": 5
}
